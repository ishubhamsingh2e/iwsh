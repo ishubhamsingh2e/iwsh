{
 "cells": [
  {
   "cell_type": "code",
   "execution_count": 46,
   "metadata": {},
   "outputs": [],
   "source": [
    "import pandas as pd\n",
    "import numpy as np"
   ]
  },
  {
   "cell_type": "code",
   "execution_count": 33,
   "metadata": {},
   "outputs": [],
   "source": [
    "df = pd.read_csv(\"number.csv\")"
   ]
  },
  {
   "cell_type": "code",
   "execution_count": 34,
   "metadata": {},
   "outputs": [
    {
     "data": {
      "text/html": [
       "<div>\n",
       "<style scoped>\n",
       "    .dataframe tbody tr th:only-of-type {\n",
       "        vertical-align: middle;\n",
       "    }\n",
       "\n",
       "    .dataframe tbody tr th {\n",
       "        vertical-align: top;\n",
       "    }\n",
       "\n",
       "    .dataframe thead th {\n",
       "        text-align: right;\n",
       "    }\n",
       "</style>\n",
       "<table border=\"1\" class=\"dataframe\">\n",
       "  <thead>\n",
       "    <tr style=\"text-align: right;\">\n",
       "      <th></th>\n",
       "      <th>hand</th>\n",
       "      <th>x0</th>\n",
       "      <th>y0</th>\n",
       "      <th>z0</th>\n",
       "      <th>x1</th>\n",
       "      <th>y1</th>\n",
       "      <th>z1</th>\n",
       "      <th>x2</th>\n",
       "      <th>y2</th>\n",
       "      <th>z2</th>\n",
       "      <th>...</th>\n",
       "      <th>x18</th>\n",
       "      <th>y18</th>\n",
       "      <th>z18</th>\n",
       "      <th>x19</th>\n",
       "      <th>y19</th>\n",
       "      <th>z19</th>\n",
       "      <th>x20</th>\n",
       "      <th>y20</th>\n",
       "      <th>z20</th>\n",
       "      <th>gesture</th>\n",
       "    </tr>\n",
       "  </thead>\n",
       "  <tbody>\n",
       "    <tr>\n",
       "      <th>0</th>\n",
       "      <td>1</td>\n",
       "      <td>0.198411</td>\n",
       "      <td>0.747025</td>\n",
       "      <td>1.200000e-07</td>\n",
       "      <td>0.235151</td>\n",
       "      <td>0.738667</td>\n",
       "      <td>-0.022964</td>\n",
       "      <td>0.268972</td>\n",
       "      <td>0.697697</td>\n",
       "      <td>-0.038584</td>\n",
       "      <td>...</td>\n",
       "      <td>0.166481</td>\n",
       "      <td>0.619918</td>\n",
       "      <td>-0.061794</td>\n",
       "      <td>0.177274</td>\n",
       "      <td>0.658618</td>\n",
       "      <td>-0.052379</td>\n",
       "      <td>0.176243</td>\n",
       "      <td>0.672592</td>\n",
       "      <td>-0.041349</td>\n",
       "      <td>0</td>\n",
       "    </tr>\n",
       "    <tr>\n",
       "      <th>1</th>\n",
       "      <td>1</td>\n",
       "      <td>0.193464</td>\n",
       "      <td>0.728339</td>\n",
       "      <td>1.610000e-07</td>\n",
       "      <td>0.234930</td>\n",
       "      <td>0.710548</td>\n",
       "      <td>-0.018884</td>\n",
       "      <td>0.268882</td>\n",
       "      <td>0.653667</td>\n",
       "      <td>-0.028651</td>\n",
       "      <td>...</td>\n",
       "      <td>0.170634</td>\n",
       "      <td>0.575411</td>\n",
       "      <td>-0.053554</td>\n",
       "      <td>0.180758</td>\n",
       "      <td>0.614971</td>\n",
       "      <td>-0.042495</td>\n",
       "      <td>0.179107</td>\n",
       "      <td>0.638144</td>\n",
       "      <td>-0.028869</td>\n",
       "      <td>0</td>\n",
       "    </tr>\n",
       "    <tr>\n",
       "      <th>2</th>\n",
       "      <td>1</td>\n",
       "      <td>0.201815</td>\n",
       "      <td>0.668465</td>\n",
       "      <td>2.030000e-07</td>\n",
       "      <td>0.249525</td>\n",
       "      <td>0.622076</td>\n",
       "      <td>-0.010308</td>\n",
       "      <td>0.285454</td>\n",
       "      <td>0.563580</td>\n",
       "      <td>-0.020356</td>\n",
       "      <td>...</td>\n",
       "      <td>0.207042</td>\n",
       "      <td>0.479684</td>\n",
       "      <td>-0.046037</td>\n",
       "      <td>0.213964</td>\n",
       "      <td>0.526689</td>\n",
       "      <td>-0.033153</td>\n",
       "      <td>0.198493</td>\n",
       "      <td>0.541396</td>\n",
       "      <td>-0.017666</td>\n",
       "      <td>0</td>\n",
       "    </tr>\n",
       "    <tr>\n",
       "      <th>3</th>\n",
       "      <td>1</td>\n",
       "      <td>0.206287</td>\n",
       "      <td>0.617647</td>\n",
       "      <td>1.470000e-07</td>\n",
       "      <td>0.253612</td>\n",
       "      <td>0.584835</td>\n",
       "      <td>-0.013613</td>\n",
       "      <td>0.287096</td>\n",
       "      <td>0.523315</td>\n",
       "      <td>-0.023192</td>\n",
       "      <td>...</td>\n",
       "      <td>0.217125</td>\n",
       "      <td>0.442216</td>\n",
       "      <td>-0.052028</td>\n",
       "      <td>0.221329</td>\n",
       "      <td>0.489974</td>\n",
       "      <td>-0.040618</td>\n",
       "      <td>0.204648</td>\n",
       "      <td>0.504209</td>\n",
       "      <td>-0.026200</td>\n",
       "      <td>0</td>\n",
       "    </tr>\n",
       "    <tr>\n",
       "      <th>4</th>\n",
       "      <td>1</td>\n",
       "      <td>0.204903</td>\n",
       "      <td>0.588751</td>\n",
       "      <td>1.210000e-07</td>\n",
       "      <td>0.250742</td>\n",
       "      <td>0.558584</td>\n",
       "      <td>-0.014471</td>\n",
       "      <td>0.286239</td>\n",
       "      <td>0.495493</td>\n",
       "      <td>-0.023983</td>\n",
       "      <td>...</td>\n",
       "      <td>0.205936</td>\n",
       "      <td>0.419783</td>\n",
       "      <td>-0.054264</td>\n",
       "      <td>0.213251</td>\n",
       "      <td>0.468543</td>\n",
       "      <td>-0.043748</td>\n",
       "      <td>0.200633</td>\n",
       "      <td>0.485689</td>\n",
       "      <td>-0.029648</td>\n",
       "      <td>0</td>\n",
       "    </tr>\n",
       "  </tbody>\n",
       "</table>\n",
       "<p>5 rows × 65 columns</p>\n",
       "</div>"
      ],
      "text/plain": [
       "   hand        x0        y0            z0        x1        y1        z1  \\\n",
       "0     1  0.198411  0.747025  1.200000e-07  0.235151  0.738667 -0.022964   \n",
       "1     1  0.193464  0.728339  1.610000e-07  0.234930  0.710548 -0.018884   \n",
       "2     1  0.201815  0.668465  2.030000e-07  0.249525  0.622076 -0.010308   \n",
       "3     1  0.206287  0.617647  1.470000e-07  0.253612  0.584835 -0.013613   \n",
       "4     1  0.204903  0.588751  1.210000e-07  0.250742  0.558584 -0.014471   \n",
       "\n",
       "         x2        y2        z2  ...       x18       y18       z18       x19  \\\n",
       "0  0.268972  0.697697 -0.038584  ...  0.166481  0.619918 -0.061794  0.177274   \n",
       "1  0.268882  0.653667 -0.028651  ...  0.170634  0.575411 -0.053554  0.180758   \n",
       "2  0.285454  0.563580 -0.020356  ...  0.207042  0.479684 -0.046037  0.213964   \n",
       "3  0.287096  0.523315 -0.023192  ...  0.217125  0.442216 -0.052028  0.221329   \n",
       "4  0.286239  0.495493 -0.023983  ...  0.205936  0.419783 -0.054264  0.213251   \n",
       "\n",
       "        y19       z19       x20       y20       z20  gesture  \n",
       "0  0.658618 -0.052379  0.176243  0.672592 -0.041349        0  \n",
       "1  0.614971 -0.042495  0.179107  0.638144 -0.028869        0  \n",
       "2  0.526689 -0.033153  0.198493  0.541396 -0.017666        0  \n",
       "3  0.489974 -0.040618  0.204648  0.504209 -0.026200        0  \n",
       "4  0.468543 -0.043748  0.200633  0.485689 -0.029648        0  \n",
       "\n",
       "[5 rows x 65 columns]"
      ]
     },
     "execution_count": 34,
     "metadata": {},
     "output_type": "execute_result"
    }
   ],
   "source": [
    "df.drop([\"uid\"], axis=1, inplace=True)\n",
    "df.head()"
   ]
  },
  {
   "cell_type": "code",
   "execution_count": 35,
   "metadata": {},
   "outputs": [
    {
     "data": {
      "text/plain": [
       "(14390, 65)"
      ]
     },
     "execution_count": 35,
     "metadata": {},
     "output_type": "execute_result"
    }
   ],
   "source": [
    "df.shape"
   ]
  },
  {
   "cell_type": "code",
   "execution_count": 36,
   "metadata": {},
   "outputs": [
    {
     "name": "stdout",
     "output_type": "stream",
     "text": [
      "<class 'pandas.core.frame.DataFrame'>\n",
      "RangeIndex: 14390 entries, 0 to 14389\n",
      "Data columns (total 65 columns):\n",
      " #   Column   Non-Null Count  Dtype  \n",
      "---  ------   --------------  -----  \n",
      " 0   hand     14390 non-null  int64  \n",
      " 1   x0       14390 non-null  float64\n",
      " 2   y0       14390 non-null  float64\n",
      " 3   z0       14390 non-null  float64\n",
      " 4   x1       14390 non-null  float64\n",
      " 5   y1       14390 non-null  float64\n",
      " 6   z1       14390 non-null  float64\n",
      " 7   x2       14390 non-null  float64\n",
      " 8   y2       14390 non-null  float64\n",
      " 9   z2       14390 non-null  float64\n",
      " 10  x3       14390 non-null  float64\n",
      " 11  y3       14390 non-null  float64\n",
      " 12  z3       14390 non-null  float64\n",
      " 13  x4       14390 non-null  float64\n",
      " 14  y4       14390 non-null  float64\n",
      " 15  z4       14390 non-null  float64\n",
      " 16  x5       14390 non-null  float64\n",
      " 17  y5       14390 non-null  float64\n",
      " 18  z5       14390 non-null  float64\n",
      " 19  x6       14390 non-null  float64\n",
      " 20  y6       14390 non-null  float64\n",
      " 21  z6       14390 non-null  float64\n",
      " 22  x7       14390 non-null  float64\n",
      " 23  y7       14390 non-null  float64\n",
      " 24  z7       14390 non-null  float64\n",
      " 25  x8       14390 non-null  float64\n",
      " 26  y8       14390 non-null  float64\n",
      " 27  z8       14390 non-null  float64\n",
      " 28  x9       14390 non-null  float64\n",
      " 29  y9       14390 non-null  float64\n",
      " 30  z9       14390 non-null  float64\n",
      " 31  x10      14390 non-null  float64\n",
      " 32  y10      14390 non-null  float64\n",
      " 33  z10      14390 non-null  float64\n",
      " 34  x11      14390 non-null  float64\n",
      " 35  y11      14390 non-null  float64\n",
      " 36  z11      14390 non-null  float64\n",
      " 37  x12      14390 non-null  float64\n",
      " 38  y12      14390 non-null  float64\n",
      " 39  z12      14390 non-null  float64\n",
      " 40  x13      14390 non-null  float64\n",
      " 41  y13      14390 non-null  float64\n",
      " 42  z13      14390 non-null  float64\n",
      " 43  x14      14390 non-null  float64\n",
      " 44  y14      14390 non-null  float64\n",
      " 45  z14      14390 non-null  float64\n",
      " 46  x15      14390 non-null  float64\n",
      " 47  y15      14390 non-null  float64\n",
      " 48  z15      14390 non-null  float64\n",
      " 49  x16      14390 non-null  float64\n",
      " 50  y16      14390 non-null  float64\n",
      " 51  z16      14390 non-null  float64\n",
      " 52  x17      14390 non-null  float64\n",
      " 53  y17      14390 non-null  float64\n",
      " 54  z17      14390 non-null  float64\n",
      " 55  x18      14390 non-null  float64\n",
      " 56  y18      14390 non-null  float64\n",
      " 57  z18      14390 non-null  float64\n",
      " 58  x19      14390 non-null  float64\n",
      " 59  y19      14390 non-null  float64\n",
      " 60  z19      14390 non-null  float64\n",
      " 61  x20      14390 non-null  float64\n",
      " 62  y20      14390 non-null  float64\n",
      " 63  z20      14390 non-null  float64\n",
      " 64  gesture  14390 non-null  int64  \n",
      "dtypes: float64(63), int64(2)\n",
      "memory usage: 7.1 MB\n"
     ]
    }
   ],
   "source": [
    "df.info()"
   ]
  },
  {
   "cell_type": "code",
   "execution_count": 37,
   "metadata": {},
   "outputs": [],
   "source": [
    "from sklearn.model_selection import train_test_split\n",
    "\n",
    "target = df[\"gesture\"]\n",
    "parameters = df.drop([\"gesture\"], axis=1)\n",
    "\n",
    "del df\n",
    "\n",
    "target = target.to_numpy()\n",
    "parameters = parameters.to_numpy()"
   ]
  },
  {
   "cell_type": "code",
   "execution_count": 38,
   "metadata": {},
   "outputs": [
    {
     "name": "stdout",
     "output_type": "stream",
     "text": [
      "<class 'numpy.ndarray'> <class 'numpy.ndarray'>\n"
     ]
    }
   ],
   "source": [
    "print(type(target), type(parameters))"
   ]
  },
  {
   "cell_type": "code",
   "execution_count": 39,
   "metadata": {},
   "outputs": [],
   "source": [
    "X_train, X_test, y_train, y_test = train_test_split(parameters, target, random_state=0)"
   ]
  },
  {
   "cell_type": "code",
   "execution_count": 40,
   "metadata": {},
   "outputs": [
    {
     "name": "stdout",
     "output_type": "stream",
     "text": [
      "<class 'numpy.ndarray'> <class 'numpy.ndarray'> <class 'numpy.ndarray'> <class 'numpy.ndarray'>\n"
     ]
    }
   ],
   "source": [
    "print(\n",
    "    type(X_train),\n",
    "    type(X_test),\n",
    "    type(y_train),\n",
    "    type(y_test),\n",
    ")"
   ]
  },
  {
   "cell_type": "code",
   "execution_count": 41,
   "metadata": {},
   "outputs": [],
   "source": [
    "from sklearn.svm import SVC"
   ]
  },
  {
   "cell_type": "code",
   "execution_count": 42,
   "metadata": {},
   "outputs": [],
   "source": [
    "C = 1.0\n",
    "GAMMA = 0.7\n",
    "\n",
    "clf = SVC(kernel='rbf', gamma=GAMMA, C=C).fit(X_train, y_train)"
   ]
  },
  {
   "cell_type": "code",
   "execution_count": 57,
   "metadata": {},
   "outputs": [],
   "source": [
    "C = 10.0\n",
    "GAMMA = 0.8\n",
    "\n",
    "clf = SVC(kernel='rbf', gamma=GAMMA, C=C).fit(X_train, y_train)"
   ]
  },
  {
   "cell_type": "code",
   "execution_count": 67,
   "metadata": {},
   "outputs": [],
   "source": [
    "import pickle\n",
    "pickle.dump(clf, open(f'../../model/number.pkl', 'wb'))"
   ]
  },
  {
   "cell_type": "code",
   "execution_count": 58,
   "metadata": {},
   "outputs": [
    {
     "name": "stdout",
     "output_type": "stream",
     "text": [
      "0.9799888827126181\n"
     ]
    }
   ],
   "source": [
    "prediction = clf.predict(X_test)\n",
    "\n",
    "print(np.mean(prediction == y_test))"
   ]
  }
 ],
 "metadata": {
  "kernelspec": {
   "display_name": "Python 3.10.4 ('venv': venv)",
   "language": "python",
   "name": "python3"
  },
  "language_info": {
   "codemirror_mode": {
    "name": "ipython",
    "version": 3
   },
   "file_extension": ".py",
   "mimetype": "text/x-python",
   "name": "python",
   "nbconvert_exporter": "python",
   "pygments_lexer": "ipython3",
   "version": "3.10.4"
  },
  "vscode": {
   "interpreter": {
    "hash": "33a4c9a236d90520a0c46e4f630334a9a04ccfacca16be9bf57c93a35c2551c6"
   }
  }
 },
 "nbformat": 4,
 "nbformat_minor": 4
}
